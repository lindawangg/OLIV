{
 "cells": [
  {
   "cell_type": "code",
   "execution_count": 1,
   "metadata": {},
   "outputs": [
    {
     "name": "stderr",
     "output_type": "stream",
     "text": [
      "/data/anaconda/envs/py35/lib/python3.5/site-packages/h5py/__init__.py:36: FutureWarning: Conversion of the second argument of issubdtype from `float` to `np.floating` is deprecated. In future, it will be treated as `np.float64 == np.dtype(float).type`.\n",
      "  from ._conv import register_converters as _register_converters\n"
     ]
    }
   ],
   "source": [
    "import numpy as np\n",
    "import os\n",
    "import six.moves.urllib as urllib\n",
    "import sys\n",
    "import tarfile\n",
    "import tensorflow as tf\n",
    "import zipfile\n",
    "\n",
    "from distutils.version import StrictVersion\n",
    "from collections import defaultdict\n",
    "from io import StringIO\n",
    "from matplotlib import pyplot as plt\n",
    "from PIL import Image\n",
    "\n",
    "from object_detection.utils import ops as utils_ops\n",
    "\n",
    "if StrictVersion(tf.__version__) < StrictVersion('1.9.0'):\n",
    "  raise ImportError('Please upgrade your TensorFlow installation to v1.9.* or later!')"
   ]
  },
  {
   "cell_type": "code",
   "execution_count": 2,
   "metadata": {},
   "outputs": [
    {
     "name": "stderr",
     "output_type": "stream",
     "text": [
      "/home/project_oliv/models/research/object_detection/utils/visualization_utils.py:26: UserWarning: \n",
      "This call to matplotlib.use() has no effect because the backend has already\n",
      "been chosen; matplotlib.use() must be called *before* pylab, matplotlib.pyplot,\n",
      "or matplotlib.backends is imported for the first time.\n",
      "\n",
      "The backend was *originally* set to 'module://ipykernel.pylab.backend_inline' by the following code:\n",
      "  File \"/data/anaconda/envs/py35/lib/python3.5/runpy.py\", line 193, in _run_module_as_main\n",
      "    \"__main__\", mod_spec)\n",
      "  File \"/data/anaconda/envs/py35/lib/python3.5/runpy.py\", line 85, in _run_code\n",
      "    exec(code, run_globals)\n",
      "  File \"/data/anaconda/envs/py35/lib/python3.5/site-packages/ipykernel/__main__.py\", line 3, in <module>\n",
      "    app.launch_new_instance()\n",
      "  File \"/data/anaconda/envs/py35/lib/python3.5/site-packages/traitlets/config/application.py\", line 658, in launch_instance\n",
      "    app.start()\n",
      "  File \"/data/anaconda/envs/py35/lib/python3.5/site-packages/ipykernel/kernelapp.py\", line 486, in start\n",
      "    self.io_loop.start()\n",
      "  File \"/data/anaconda/envs/py35/lib/python3.5/site-packages/tornado/platform/asyncio.py\", line 127, in start\n",
      "    self.asyncio_loop.run_forever()\n",
      "  File \"/data/anaconda/envs/py35/lib/python3.5/asyncio/base_events.py\", line 421, in run_forever\n",
      "    self._run_once()\n",
      "  File \"/data/anaconda/envs/py35/lib/python3.5/asyncio/base_events.py\", line 1425, in _run_once\n",
      "    handle._run()\n",
      "  File \"/data/anaconda/envs/py35/lib/python3.5/asyncio/events.py\", line 127, in _run\n",
      "    self._callback(*self._args)\n",
      "  File \"/data/anaconda/envs/py35/lib/python3.5/site-packages/tornado/ioloop.py\", line 759, in _run_callback\n",
      "    ret = callback()\n",
      "  File \"/data/anaconda/envs/py35/lib/python3.5/site-packages/tornado/stack_context.py\", line 276, in null_wrapper\n",
      "    return fn(*args, **kwargs)\n",
      "  File \"/data/anaconda/envs/py35/lib/python3.5/site-packages/zmq/eventloop/zmqstream.py\", line 536, in <lambda>\n",
      "    self.io_loop.add_callback(lambda : self._handle_events(self.socket, 0))\n",
      "  File \"/data/anaconda/envs/py35/lib/python3.5/site-packages/zmq/eventloop/zmqstream.py\", line 450, in _handle_events\n",
      "    self._handle_recv()\n",
      "  File \"/data/anaconda/envs/py35/lib/python3.5/site-packages/zmq/eventloop/zmqstream.py\", line 480, in _handle_recv\n",
      "    self._run_callback(callback, msg)\n",
      "  File \"/data/anaconda/envs/py35/lib/python3.5/site-packages/zmq/eventloop/zmqstream.py\", line 432, in _run_callback\n",
      "    callback(*args, **kwargs)\n",
      "  File \"/data/anaconda/envs/py35/lib/python3.5/site-packages/tornado/stack_context.py\", line 276, in null_wrapper\n",
      "    return fn(*args, **kwargs)\n",
      "  File \"/data/anaconda/envs/py35/lib/python3.5/site-packages/ipykernel/kernelbase.py\", line 283, in dispatcher\n",
      "    return self.dispatch_shell(stream, msg)\n",
      "  File \"/data/anaconda/envs/py35/lib/python3.5/site-packages/ipykernel/kernelbase.py\", line 233, in dispatch_shell\n",
      "    handler(stream, idents, msg)\n",
      "  File \"/data/anaconda/envs/py35/lib/python3.5/site-packages/ipykernel/kernelbase.py\", line 399, in execute_request\n",
      "    user_expressions, allow_stdin)\n",
      "  File \"/data/anaconda/envs/py35/lib/python3.5/site-packages/ipykernel/ipkernel.py\", line 208, in do_execute\n",
      "    res = shell.run_cell(code, store_history=store_history, silent=silent)\n",
      "  File \"/data/anaconda/envs/py35/lib/python3.5/site-packages/ipykernel/zmqshell.py\", line 537, in run_cell\n",
      "    return super(ZMQInteractiveShell, self).run_cell(*args, **kwargs)\n",
      "  File \"/data/anaconda/envs/py35/lib/python3.5/site-packages/IPython/core/interactiveshell.py\", line 2662, in run_cell\n",
      "    raw_cell, store_history, silent, shell_futures)\n",
      "  File \"/data/anaconda/envs/py35/lib/python3.5/site-packages/IPython/core/interactiveshell.py\", line 2785, in _run_cell\n",
      "    interactivity=interactivity, compiler=compiler, result=result)\n",
      "  File \"/data/anaconda/envs/py35/lib/python3.5/site-packages/IPython/core/interactiveshell.py\", line 2903, in run_ast_nodes\n",
      "    if self.run_code(code, result):\n",
      "  File \"/data/anaconda/envs/py35/lib/python3.5/site-packages/IPython/core/interactiveshell.py\", line 2963, in run_code\n",
      "    exec(code_obj, self.user_global_ns, self.user_ns)\n",
      "  File \"<ipython-input-2-3b042c88baa2>\", line 1, in <module>\n",
      "    get_ipython().run_line_magic('matplotlib', 'inline')\n",
      "  File \"/data/anaconda/envs/py35/lib/python3.5/site-packages/IPython/core/interactiveshell.py\", line 2131, in run_line_magic\n",
      "    result = fn(*args,**kwargs)\n",
      "  File \"<decorator-gen-107>\", line 2, in matplotlib\n",
      "  File \"/data/anaconda/envs/py35/lib/python3.5/site-packages/IPython/core/magic.py\", line 187, in <lambda>\n",
      "    call = lambda f, *a, **k: f(*a, **k)\n",
      "  File \"/data/anaconda/envs/py35/lib/python3.5/site-packages/IPython/core/magics/pylab.py\", line 99, in matplotlib\n",
      "    gui, backend = self.shell.enable_matplotlib(args.gui)\n",
      "  File \"/data/anaconda/envs/py35/lib/python3.5/site-packages/IPython/core/interactiveshell.py\", line 3051, in enable_matplotlib\n",
      "    pt.activate_matplotlib(backend)\n",
      "  File \"/data/anaconda/envs/py35/lib/python3.5/site-packages/IPython/core/pylabtools.py\", line 311, in activate_matplotlib\n",
      "    matplotlib.pyplot.switch_backend(backend)\n",
      "  File \"/data/anaconda/envs/py35/lib/python3.5/site-packages/matplotlib/pyplot.py\", line 231, in switch_backend\n",
      "    matplotlib.use(newbackend, warn=False, force=True)\n",
      "  File \"/data/anaconda/envs/py35/lib/python3.5/site-packages/matplotlib/__init__.py\", line 1410, in use\n",
      "    reload(sys.modules['matplotlib.backends'])\n",
      "  File \"/data/anaconda/envs/py35/lib/python3.5/importlib/__init__.py\", line 166, in reload\n",
      "    _bootstrap._exec(spec, module)\n",
      "  File \"/data/anaconda/envs/py35/lib/python3.5/site-packages/matplotlib/backends/__init__.py\", line 16, in <module>\n",
      "    line for line in traceback.format_stack()\n",
      "\n",
      "\n",
      "  import matplotlib; matplotlib.use('Agg')  # pylint: disable=multiple-statements\n"
     ]
    }
   ],
   "source": [
    "%matplotlib inline\n",
    "\n",
    "from object_detection.utils import label_map_util\n",
    "\n",
    "from object_detection.utils import visualization_utils as vis_util"
   ]
  },
  {
   "cell_type": "code",
   "execution_count": 3,
   "metadata": {},
   "outputs": [],
   "source": [
    "# What model to download.\n",
    "MODEL_NAME = '/home/linda/OLIV/training/models/ssd_mobilenetv2_14_224/export/ssd_mobilenetv2_14_224_800000'\n",
    "\n",
    "# Path to frozen detection graph. This is the actual model that is used for the object detection.\n",
    "PATH_TO_FROZEN_GRAPH = MODEL_NAME + '/frozen_inference_graph.pb'\n",
    "\n",
    "# List of the strings that is used to add correct label for each box.\n",
    "PATH_TO_LABELS = os.path.join('/home/project_oliv/OLIV/training/data', 'label_map.pbtxt')"
   ]
  },
  {
   "cell_type": "code",
   "execution_count": 4,
   "metadata": {},
   "outputs": [],
   "source": [
    "detection_graph = tf.Graph()\n",
    "with detection_graph.as_default():\n",
    "    od_graph_def = tf.GraphDef()\n",
    "    with tf.gfile.GFile(PATH_TO_FROZEN_GRAPH, 'rb') as fid:\n",
    "        serialized_graph = fid.read()\n",
    "        od_graph_def.ParseFromString(serialized_graph)\n",
    "        tf.import_graph_def(od_graph_def, name='')\n",
    "    sess = tf.Session(graph=detection_graph)"
   ]
  },
  {
   "cell_type": "code",
   "execution_count": 5,
   "metadata": {},
   "outputs": [],
   "source": [
    "category_index = label_map_util.create_category_index_from_labelmap(PATH_TO_LABELS, use_display_name=True)"
   ]
  },
  {
   "cell_type": "code",
   "execution_count": 6,
   "metadata": {},
   "outputs": [
    {
     "name": "stdout",
     "output_type": "stream",
     "text": [
      "13304\n"
     ]
    }
   ],
   "source": [
    "import pickle \n",
    "fileObject = open('/home/linda/OLIV/training/data/filenames_id.p','rb')  \n",
    "filenames_id = pickle.load(fileObject) \n",
    "\n",
    "image_names = []\n",
    "count = 0 \n",
    "for key in filenames_id:\n",
    "    image_names.append(key)\n",
    "    count += 1\n",
    "print(count)"
   ]
  },
  {
   "cell_type": "code",
   "execution_count": 7,
   "metadata": {},
   "outputs": [],
   "source": [
    "PATH_TO_TEST_IMAGES_DIR = '/home/linda/OLIV/training/data/images/cooc2017'\n",
    "#IMAGE_NAME = '000000253906.jpg'\n",
    "#TEST_IMAGE_PATH = os.path.join(PATH_TO_TEST_IMAGES_DIR, IMAGE_NAME)\n",
    "\n",
    "# Size, in inches, of the output images.\n",
    "IMAGE_SIZE = (12, 8)"
   ]
  },
  {
   "cell_type": "code",
   "execution_count": 8,
   "metadata": {},
   "outputs": [],
   "source": [
    "def run_inference_for_single_image(image, sess, graph):\n",
    "    #with graph.as_default():\n",
    "        #with tf.Session() as sess:\n",
    "    # Get handles to input and output tensors\n",
    "    ops = graph.get_operations()\n",
    "    all_tensor_names = {output.name for op in ops for output in op.outputs}\n",
    "    tensor_dict = {}\n",
    "    for key in [\n",
    "          'num_detections', 'detection_boxes', 'detection_scores',\n",
    "          'detection_classes', 'detection_masks'\n",
    "      ]:\n",
    "        tensor_name = key + ':0'\n",
    "        if tensor_name in all_tensor_names:\n",
    "            tensor_dict[key] = graph.get_tensor_by_name(tensor_name)\n",
    "    if 'detection_masks' in tensor_dict:\n",
    "        # The following processing is only for single image\n",
    "        detection_boxes = tf.squeeze(tensor_dict['detection_boxes'], [0])\n",
    "        detection_masks = tf.squeeze(tensor_dict['detection_masks'], [0])\n",
    "        # Reframe is required to translate mask from box coordinates to image coordinates and fit the image size.\n",
    "        real_num_detection = tf.cast(tensor_dict['num_detections'][0], tf.int32)\n",
    "        detection_boxes = tf.slice(detection_boxes, [0, 0], [real_num_detection, -1])\n",
    "        detection_masks = tf.slice(detection_masks, [0, 0, 0], [real_num_detection, -1, -1])\n",
    "        detection_masks_reframed = utils_ops.reframe_box_masks_to_image_masks(\n",
    "            detection_masks, detection_boxes, image.shape[0], image.shape[1])\n",
    "        detection_masks_reframed = tf.cast(tf.greater(detection_masks_reframed, 0.5), tf.uint8)\n",
    "        # Follow the convention by adding back the batch dimension\n",
    "        tensor_dict['detection_masks'] = tf.expand_dims(detection_masks_reframed, 0)\n",
    "    image_tensor = graph.get_tensor_by_name('image_tensor:0')\n",
    "\n",
    "    # Run inference\n",
    "    output_dict = sess.run(tensor_dict,\n",
    "                       feed_dict={image_tensor: np.expand_dims(image, 0)})\n",
    "\n",
    "    # all outputs are float32 numpy arrays, so convert types as appropriate\n",
    "    output_dict['num_detections'] = int(output_dict['num_detections'][0])\n",
    "    output_dict['detection_classes'] = output_dict['detection_classes'][0].astype(np.uint8)\n",
    "    output_dict['detection_boxes'] = output_dict['detection_boxes'][0]\n",
    "    output_dict['detection_scores'] = output_dict['detection_scores'][0]\n",
    "    if 'detection_masks' in output_dict:\n",
    "        output_dict['detection_masks'] = output_dict['detection_masks'][0]\n",
    "    return output_dict"
   ]
  },
  {
   "cell_type": "code",
   "execution_count": 9,
   "metadata": {},
   "outputs": [],
   "source": [
    "def load_image_into_numpy_array(image):\n",
    "    (im_width, im_height) = image.size\n",
    "    return np.array(image.getdata()).reshape((im_height, im_width, 3)).astype(np.uint8)"
   ]
  },
  {
   "cell_type": "code",
   "execution_count": 10,
   "metadata": {},
   "outputs": [],
   "source": [
    "'''class_labels = {'bottle': 44, 'person': 1, 'backpack': 27, 'handbag': 31, \n",
    "                'umbrella': 28, 'bowl': 51, 'cup': 47, 'clock': 85, \n",
    "                'knife': 49, 'spoon': 50, 'fork': 48, 'chair': 62, \n",
    "                'potted plant': 64, 'dining table': 67, 'keyboard': 76, 'mouse': 74, \n",
    "                'laptop': 73, 'cell phone': 77, 'scissors': 87, 'book': 84, 'monitor': 72}\n",
    "\n",
    "class_ids = {44, 1, 27, 31, 28, 51, 47, 85, 49, 50, 48, 62, 64, 67, 76, 74, 73, 77, 87, 84, 72}''' \n",
    "\n",
    "class_labels = {'bottle': 1, 'person': 2, 'backpack': 3, 'handbag': 4, \n",
    "                'umbrella': 5, 'bowl': 6, 'cup': 7, 'clock': 8, \n",
    "                'knife': 9, 'spoon': 10, 'fork': 11, 'chair': 12, \n",
    "                'potted plant': 13, 'dining table': 14, 'keyboard': 15, 'mouse': 16, \n",
    "                'laptop': 17, 'cell phone': 18, 'scissors': 19, 'book': 20, 'monitor': 21}\n",
    "class_ids = {1, 2, 3, 4, 5, 6, 7, 8, 9, 10, 11, 12, 13, 14, 15, 16, 17, 18, 19, 20, 21}\n",
    "\n",
    "def write_to_json(output_dict, image_name, isFirst):\n",
    "    i = 0 \n",
    "    while i < output_dict['num_detections']:\n",
    "        # \"image_id\":1, \"category_id\":18, \"bbox\": [x, y, width, height], \"score\":0.7\n",
    "        if output_dict['detection_classes'][i] in class_ids and output_dict['detection_scores'][i] > 0:\n",
    "            if isFirst:\n",
    "                file.write(\"{\\\"image_id\\\": \" + str(filenames_id[image_name])\n",
    "                          + \", \\\"category_id\\\": \"+ str(output_dict['detection_classes'][i])\n",
    "                          + \", \\\"bbox\\\": [\" + str(output_dict['detection_boxes'][i][1]*image.size[0]) + \", \"\n",
    "                          + str(output_dict['detection_boxes'][i][0]*image.size[1]) + \", \"\n",
    "                          + str((output_dict['detection_boxes'][i][3]-output_dict['detection_boxes'][i][1])*image.size[0]) + \", \"\n",
    "                          + str((output_dict['detection_boxes'][i][2]-output_dict['detection_boxes'][i][0])*image.size[1])\n",
    "                          + \"], \\\"score\\\": \" + str(output_dict['detection_scores'][i]) + \"}\")\n",
    "                isFirst = False\n",
    "            else:\n",
    "                file.write(\",{\\\"image_id\\\": \" + str(filenames_id[image_name])\n",
    "                          + \", \\\"category_id\\\": \"+ str(output_dict['detection_classes'][i])\n",
    "                          + \", \\\"bbox\\\": [\" + str(output_dict['detection_boxes'][i][1]*image.size[0]) + \", \"\n",
    "                          + str(output_dict['detection_boxes'][i][0]*image.size[1]) + \", \"\n",
    "                          + str((output_dict['detection_boxes'][i][3]-output_dict['detection_boxes'][i][1])*image.size[0]) + \", \"\n",
    "                          + str((output_dict['detection_boxes'][i][2]-output_dict['detection_boxes'][i][0])*image.size[1])\n",
    "                          + \"], \\\"score\\\": \" + str(output_dict['detection_scores'][i]) + \"}\")\n",
    "        i += 1"
   ]
  },
  {
   "cell_type": "code",
   "execution_count": 11,
   "metadata": {},
   "outputs": [
    {
     "data": {
      "text/plain": [
       "13304"
      ]
     },
     "metadata": {},
     "output_type": "display_data"
    },
    {
     "data": {
      "text/plain": [
       "\"vis_util.visualize_boxes_and_labels_on_image_array(\\n    image_np,\\n    output_dict['detection_boxes'],\\n    output_dict['detection_classes'],\\n    output_dict['detection_scores'],\\n    category_index,\\n    instance_masks=output_dict.get('detection_masks'),\\n    use_normalized_coordinates=True,\\n    line_thickness=8)\\nplt.figure(figsize=IMAGE_SIZE)\\nplt.imshow(image_np)\""
      ]
     },
     "execution_count": 11,
     "metadata": {},
     "output_type": "execute_result"
    }
   ],
   "source": [
    "file = open(\"subsetCOCO_testRes_035_224.json\", \"w\")\n",
    "file.write(\"[\")\n",
    "first = True\n",
    "\n",
    "from IPython.display import display, clear_output\n",
    "num_iter = 0 \n",
    "\n",
    "for im_name in image_names:\n",
    "    clear_output(wait=True)\n",
    "    num_iter += 1\n",
    "    display(num_iter)\n",
    "    #if num_iter > 10:\n",
    "        #break\n",
    "    test_image_path = os.path.join(PATH_TO_TEST_IMAGES_DIR, im_name)\n",
    "    image = Image.open(test_image_path)\n",
    "    image_np = load_image_into_numpy_array(image)\n",
    "    image_np_expanded = np.expand_dims(image_np, axis=0)\n",
    "    output_dict = run_inference_for_single_image(image_np, sess, detection_graph)\n",
    "    write_to_json(output_dict, im_name, first)\n",
    "    first = False\n",
    "\n",
    "file.write(\"]\")\n",
    "file.close()\n",
    "sess.close()\n",
    "'''vis_util.visualize_boxes_and_labels_on_image_array(\n",
    "    image_np,\n",
    "    output_dict['detection_boxes'],\n",
    "    output_dict['detection_classes'],\n",
    "    output_dict['detection_scores'],\n",
    "    category_index,\n",
    "    instance_masks=output_dict.get('detection_masks'),\n",
    "    use_normalized_coordinates=True,\n",
    "    line_thickness=8)\n",
    "plt.figure(figsize=IMAGE_SIZE)\n",
    "plt.imshow(image_np)'''"
   ]
  },
  {
   "cell_type": "code",
   "execution_count": 44,
   "metadata": {},
   "outputs": [],
   "source": [
    "'''class_labels = {'bottle': 44, 'person': 1, 'backpack': 27, 'handbag': 31, \n",
    "                'umbrella': 28, 'bowl': 51, 'cup': 47, 'clock': 85, \n",
    "                'knife': 49, 'spoon': 50, 'fork': 48, 'chair': 62, \n",
    "                'potted plant': 64, 'dining table': 67, 'keyboard': 76, 'mouse': 74, \n",
    "                'laptop': 73, 'cell phone': 77, 'scissors': 87, 'book': 84, 'monitor': 72}\n",
    "\n",
    "class_ids = {44, 1, 27, 31, 28, 51, 47, 85, 49, 50, 48, 62, 64, 67, 76, 74, 73, 77, 87, 84, 72}\n",
    "import pickle \n",
    "fileObject = open('/home/linda/OLIV/training/data/filenames_id.p','rb')  \n",
    "filenames_id = pickle.load(fileObject)''' "
   ]
  },
  {
   "cell_type": "code",
   "execution_count": 53,
   "metadata": {},
   "outputs": [],
   "source": [
    "'''file = open(\"subsetCOCO_testRes.json\", \"w\")\n",
    "file.write(\"[\")\n",
    "i = 0 \n",
    "while i < output_dict['num_detections']:\n",
    "    # \"image_id\":1, \"category_id\":18, \"bbox\": [x, y, width, height], \"score\":0.7\n",
    "    if output_dict['detection_classes'][i] in class_ids and output_dict['detection_scores'][i] > 0:\n",
    "        if i == 0:\n",
    "            file.write(\"{\\\"image_id\\\": \" + str(filenames_id[IMAGE_NAME])\n",
    "                      + \", \\\"category_id\\\": \"+ str(output_dict['detection_classes'][i])\n",
    "                      + \", \\\"bbox\\\": [\" + str(output_dict['detection_boxes'][i][1]*image.size[0]) + \", \"\n",
    "                      + str(output_dict['detection_boxes'][i][0]*image.size[1]) + \", \"\n",
    "                      + str((output_dict['detection_boxes'][i][3]-output_dict['detection_boxes'][i][1])*image.size[0]) + \", \"\n",
    "                      + str((output_dict['detection_boxes'][i][2]-output_dict['detection_boxes'][i][0])*image.size[1])\n",
    "                      + \"], \\\"score\\\": \" + str(output_dict['detection_scores'][i]) + \"}\")\n",
    "        else:\n",
    "            file.write(\",{\\\"image_id\\\": \" + str(filenames_id[IMAGE_NAME])\n",
    "                      + \", \\\"category_id\\\": \"+ str(output_dict['detection_classes'][i])\n",
    "                      + \", \\\"bbox\\\": [\" + str(output_dict['detection_boxes'][i][1]*image.size[0]) + \", \"\n",
    "                      + str(output_dict['detection_boxes'][i][0]*image.size[1]) + \", \"\n",
    "                      + str((output_dict['detection_boxes'][i][3]-output_dict['detection_boxes'][i][1])*image.size[0]) + \", \"\n",
    "                      + str((output_dict['detection_boxes'][i][2]-output_dict['detection_boxes'][i][0])*image.size[1])\n",
    "                      + \"], \\\"score\\\": \" + str(output_dict['detection_scores'][i]) + \"}\")\n",
    "    i += 1\n",
    "\n",
    "file.write(\"]\")\n",
    "file.close()'''"
   ]
  },
  {
   "cell_type": "code",
   "execution_count": null,
   "metadata": {},
   "outputs": [],
   "source": []
  }
 ],
 "metadata": {
  "kernelspec": {
   "display_name": "Python [default]",
   "language": "python",
   "name": "python3"
  },
  "language_info": {
   "codemirror_mode": {
    "name": "ipython",
    "version": 3
   },
   "file_extension": ".py",
   "mimetype": "text/x-python",
   "name": "python",
   "nbconvert_exporter": "python",
   "pygments_lexer": "ipython3",
   "version": "3.5.5"
  }
 },
 "nbformat": 4,
 "nbformat_minor": 2
}
