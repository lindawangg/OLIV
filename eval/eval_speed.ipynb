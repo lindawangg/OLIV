{
 "cells": [
  {
   "cell_type": "code",
   "execution_count": 1,
   "metadata": {},
   "outputs": [],
   "source": [
    "import os\n",
    "import datetime\n",
    "import time\n",
    "import cv2\n",
    "import numpy as np\n",
    "import tensorflow as tf\n",
    "from object_detection.utils import label_map_util\n",
    "from utils.detect_utils import detect_objects_no_vis"
   ]
  },
  {
   "cell_type": "code",
   "execution_count": 54,
   "metadata": {},
   "outputs": [],
   "source": [
    "# Path to frozen detection graph\n",
    "EXPORT_NAME = 'ssd_mobilenetv2_1_160_300000'\n",
    "MODEL_NAME = 'ssd_mobilenetv2_1_160'\n",
    "CWD_PATH = os.getcwd()\n",
    "PATH_TO_CKPT = os.path.join(CWD_PATH, '..', 'training/models', MODEL_NAME, 'export', EXPORT_NAME, 'frozen_inference_graph.pb')\n",
    "# Path to labels\n",
    "PATH_TO_LABELS = os.path.join(CWD_PATH, '..', 'training/data/label_map.pbtxt')\n",
    "# Number of classes\n",
    "NUM_CLASSES = 21\n",
    "# Load label map\n",
    "label_map = label_map_util.load_labelmap(PATH_TO_LABELS)\n",
    "categories = label_map_util.convert_label_map_to_categories(label_map, max_num_classes=NUM_CLASSES, use_display_name=True)\n",
    "category_index = label_map_util.create_category_index(categories)\n",
    "# Path to images\n",
    "PATH_TO_IMAGES = os.path.join(CWD_PATH, '..', 'training/data/sample_images')"
   ]
  },
  {
   "cell_type": "code",
   "execution_count": 55,
   "metadata": {},
   "outputs": [],
   "source": [
    "detection_graph = tf.Graph()\n",
    "with detection_graph.as_default():\n",
    "    od_graph_def = tf.GraphDef()\n",
    "    with tf.gfile.GFile(PATH_TO_CKPT, 'rb') as fid:\n",
    "        serialized_graph = fid.read()\n",
    "        od_graph_def.ParseFromString(serialized_graph)\n",
    "        tf.import_graph_def(od_graph_def, name='')\n",
    "    sess = tf.Session(graph=detection_graph)"
   ]
  },
  {
   "cell_type": "code",
   "execution_count": 56,
   "metadata": {},
   "outputs": [
    {
     "data": {
      "text/plain": [
       "100"
      ]
     },
     "metadata": {},
     "output_type": "display_data"
    }
   ],
   "source": [
    "from IPython.display import display, clear_output\n",
    "\n",
    "execution_times = []\n",
    "# run 100 different images and take average speed\n",
    "i = 1\n",
    "for jpgfile in os.listdir(PATH_TO_IMAGES):\n",
    "    #print(os.path.join(PATH_TO_IMAGES, jpgfile))\n",
    "    clear_output(wait=True)\n",
    "    display(i)\n",
    "    i += 1\n",
    "    if jpgfile == '000000000086.jpg':\n",
    "        continue\n",
    "    start_time = datetime.datetime.now()\n",
    "    image = cv2.imread(os.path.join(PATH_TO_IMAGES, jpgfile), -1)\n",
    "    boxes, scores, classes, num_detections = detect_objects_no_vis(image, sess, detection_graph)\n",
    "    end_time = datetime.datetime.now()\n",
    "    execution_times.append((end_time - start_time).total_seconds())"
   ]
  },
  {
   "cell_type": "code",
   "execution_count": 57,
   "metadata": {},
   "outputs": [
    {
     "name": "stdout",
     "output_type": "stream",
     "text": [
      "\n",
      " ----- SUMMARY ----- \n",
      "\n",
      "Average runtime: 0.05143777777777778s\n",
      "Std Dev: 0.18293476709204656s\n",
      "95th percentile: 0.0401721s\n",
      "99th percentile: 0.07838393999999275s\n"
     ]
    }
   ],
   "source": [
    "execution_times = np.array(execution_times, dtype=np.float)\n",
    "print(\"\\n ----- SUMMARY ----- \\n\")\n",
    "print(\"Average runtime: %ss\" % np.average(execution_times))\n",
    "print(\"Std Dev: %ss\" % np.std(execution_times))\n",
    "print(\"95th percentile: %ss\" % np.percentile(execution_times,95))\n",
    "print(\"99th percentile: %ss\" % np.percentile(execution_times,99))"
   ]
  },
  {
   "cell_type": "code",
   "execution_count": null,
   "metadata": {},
   "outputs": [],
   "source": []
  }
 ],
 "metadata": {
  "kernelspec": {
   "display_name": "Python 3",
   "language": "python",
   "name": "python3"
  },
  "language_info": {
   "codemirror_mode": {
    "name": "ipython",
    "version": 3
   },
   "file_extension": ".py",
   "mimetype": "text/x-python",
   "name": "python",
   "nbconvert_exporter": "python",
   "pygments_lexer": "ipython3",
   "version": "3.6.6"
  }
 },
 "nbformat": 4,
 "nbformat_minor": 2
}
