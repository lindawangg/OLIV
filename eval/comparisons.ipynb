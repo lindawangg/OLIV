{
 "cells": [
  {
   "cell_type": "code",
   "execution_count": 1,
   "metadata": {},
   "outputs": [],
   "source": [
    "import matplotlib.pyplot as plt\n",
    "import pandas as pd"
   ]
  },
  {
   "cell_type": "code",
   "execution_count": 12,
   "metadata": {},
   "outputs": [
    {
     "data": {
      "text/html": [
       "<div>\n",
       "<style scoped>\n",
       "    .dataframe tbody tr th:only-of-type {\n",
       "        vertical-align: middle;\n",
       "    }\n",
       "\n",
       "    .dataframe tbody tr th {\n",
       "        vertical-align: top;\n",
       "    }\n",
       "\n",
       "    .dataframe thead th {\n",
       "        text-align: right;\n",
       "    }\n",
       "</style>\n",
       "<table border=\"1\" class=\"dataframe\">\n",
       "  <thead>\n",
       "    <tr style=\"text-align: right;\">\n",
       "      <th></th>\n",
       "      <th>width</th>\n",
       "      <th>res</th>\n",
       "      <th>IOU=0.5</th>\n",
       "      <th>IOU=0.75</th>\n",
       "      <th>IOU=0.5:0.95</th>\n",
       "      <th>speed</th>\n",
       "    </tr>\n",
       "  </thead>\n",
       "  <tbody>\n",
       "    <tr>\n",
       "      <th>0</th>\n",
       "      <td>1.40</td>\n",
       "      <td>224</td>\n",
       "      <td>0.140</td>\n",
       "      <td>0.075</td>\n",
       "      <td>0.076</td>\n",
       "      <td>0.136</td>\n",
       "    </tr>\n",
       "    <tr>\n",
       "      <th>1</th>\n",
       "      <td>1.00</td>\n",
       "      <td>224</td>\n",
       "      <td>0.127</td>\n",
       "      <td>0.068</td>\n",
       "      <td>0.071</td>\n",
       "      <td>0.085</td>\n",
       "    </tr>\n",
       "    <tr>\n",
       "      <th>2</th>\n",
       "      <td>0.75</td>\n",
       "      <td>224</td>\n",
       "      <td>0.123</td>\n",
       "      <td>0.061</td>\n",
       "      <td>0.066</td>\n",
       "      <td>0.084</td>\n",
       "    </tr>\n",
       "    <tr>\n",
       "      <th>3</th>\n",
       "      <td>0.50</td>\n",
       "      <td>224</td>\n",
       "      <td>0.091</td>\n",
       "      <td>0.046</td>\n",
       "      <td>0.050</td>\n",
       "      <td>0.081</td>\n",
       "    </tr>\n",
       "    <tr>\n",
       "      <th>4</th>\n",
       "      <td>0.35</td>\n",
       "      <td>224</td>\n",
       "      <td>0.071</td>\n",
       "      <td>0.033</td>\n",
       "      <td>0.037</td>\n",
       "      <td>0.059</td>\n",
       "    </tr>\n",
       "    <tr>\n",
       "      <th>5</th>\n",
       "      <td>1.00</td>\n",
       "      <td>192</td>\n",
       "      <td>0.112</td>\n",
       "      <td>0.057</td>\n",
       "      <td>0.060</td>\n",
       "      <td>0.080</td>\n",
       "    </tr>\n",
       "    <tr>\n",
       "      <th>6</th>\n",
       "      <td>1.00</td>\n",
       "      <td>160</td>\n",
       "      <td>0.091</td>\n",
       "      <td>0.040</td>\n",
       "      <td>0.047</td>\n",
       "      <td>0.076</td>\n",
       "    </tr>\n",
       "    <tr>\n",
       "      <th>7</th>\n",
       "      <td>1.00</td>\n",
       "      <td>128</td>\n",
       "      <td>0.059</td>\n",
       "      <td>0.026</td>\n",
       "      <td>0.030</td>\n",
       "      <td>0.059</td>\n",
       "    </tr>\n",
       "  </tbody>\n",
       "</table>\n",
       "</div>"
      ],
      "text/plain": [
       "   width  res  IOU=0.5  IOU=0.75  IOU=0.5:0.95  speed\n",
       "0   1.40  224    0.140     0.075         0.076  0.136\n",
       "1   1.00  224    0.127     0.068         0.071  0.085\n",
       "2   0.75  224    0.123     0.061         0.066  0.084\n",
       "3   0.50  224    0.091     0.046         0.050  0.081\n",
       "4   0.35  224    0.071     0.033         0.037  0.059\n",
       "5   1.00  192    0.112     0.057         0.060  0.080\n",
       "6   1.00  160    0.091     0.040         0.047  0.076\n",
       "7   1.00  128    0.059     0.026         0.030  0.059"
      ]
     },
     "execution_count": 12,
     "metadata": {},
     "output_type": "execute_result"
    }
   ],
   "source": [
    "r = {'width': [1.4, 1, 0.75, 0.5, 0.35, 1, 1, 1], \n",
    "     'res': [224, 224, 224, 224, 224, 192, 160, 128], \n",
    "     'IOU=0.5': [0.140, 0.127, 0.123, 0.091, 0.071, 0.112, 0.091, 0.059], \n",
    "     'IOU=0.75':[0.075,0.068, 0.061, 0.046, 0.033, 0.057, 0.040, 0.026], \n",
    "     'IOU=0.5:0.95':[0.076,0.071,0.066, 0.050, 0.037, 0.060, 0.047, 0.030], \n",
    "     'speed':[0.136,0.085,0.084, 0.081, 0.059, 0.080, 0.076, 0.059]}\n",
    "df = pd.DataFrame(data=r)\n",
    "df"
   ]
  },
  {
   "cell_type": "code",
   "execution_count": 13,
   "metadata": {},
   "outputs": [
    {
     "data": {
      "text/plain": [
       "<matplotlib.axes._subplots.AxesSubplot at 0x117fa4668>"
      ]
     },
     "execution_count": 13,
     "metadata": {},
     "output_type": "execute_result"
    },
    {
     "data": {
      "image/png": "[encoded data removed]",
      "text/plain": [
       "<Figure size 432x288 with 1 Axes>"
      ]
     },
     "metadata": {
      "needs_background": "light"
     },
     "output_type": "display_data"
    },
    {
     "data": {
      "image/png": "[encoded data removed]",
      "text/plain": [
       "<Figure size 432x288 with 1 Axes>"
      ]
     },
     "metadata": {
      "needs_background": "light"
     },
     "output_type": "display_data"
    }
   ],
   "source": [
    "# varying width, constant resolution with different IoUs\n",
    "ap_width = df.loc[df['res']==224]\n",
    "ax = ap_width.plot(x='width', y='IOU=0.5', style='bo')\n",
    "ap_width.plot(ax=ax, x='width', y='IOU=0.75', style='go')\n",
    "ap_width.plot(ax=ax, x='width', y='IOU=0.5:0.95', style='ro')\n",
    "ax.legend()\n",
    "\n",
    "speed_width = df.loc[df['res']==224]\n",
    "speed_width.plot(x='width', y='speed', style='o')"
   ]
  },
  {
   "cell_type": "code",
   "execution_count": 4,
   "metadata": {},
   "outputs": [
    {
     "data": {
      "text/plain": [
       "<matplotlib.axes._subplots.AxesSubplot at 0x1174ce588>"
      ]
     },
     "execution_count": 4,
     "metadata": {},
     "output_type": "execute_result"
    },
    {
     "data": {
      "image/png": "[encoded data removed]",
      "text/plain": [
       "<Figure size 432x288 with 1 Axes>"
      ]
     },
     "metadata": {
      "needs_background": "light"
     },
     "output_type": "display_data"
    },
    {
     "data": {
      "image/png": "[encoded data removed]",
      "text/plain": [
       "<Figure size 432x288 with 1 Axes>"
      ]
     },
     "metadata": {
      "needs_background": "light"
     },
     "output_type": "display_data"
    }
   ],
   "source": [
    "# varying resolution, constant width with different IoUs\n",
    "ap_res = df.loc[df['width']==1]\n",
    "ax = ap_res.plot(x='res', y='IOU=0.5', style='bo')\n",
    "ap_res.plot(ax=ax, x='res', y='IOU=0.75', style='go')\n",
    "ap_res.plot(ax=ax, x='res', y='IOU=0.5:0.95', style='ro')\n",
    "ax.legend()\n",
    "\n",
    "speed_res = df.loc[df['width']==1]\n",
    "speed_res.plot(x='res', y='speed', style='o')"
   ]
  },
  {
   "cell_type": "code",
   "execution_count": 11,
   "metadata": {},
   "outputs": [
    {
     "data": {
      "text/plain": [
       "<matplotlib.legend.Legend at 0x117e54c18>"
      ]
     },
     "execution_count": 11,
     "metadata": {},
     "output_type": "execute_result"
    },
    {
     "data": {
      "image/png": "[encoded data removed]",
      "text/plain": [
       "<Figure size 432x288 with 1 Axes>"
      ]
     },
     "metadata": {
      "needs_background": "light"
     },
     "output_type": "display_data"
    }
   ],
   "source": [
    "# speed vs accuracy for all models \n",
    "ax = df.loc[(df['width']==1) & (df['res']==224)].plot(x='speed', y='IOU=0.5', color='b', marker='o', label='(1,224)')\n",
    "df.loc[(df['width']==1) & (df['res']==192)].plot(ax=ax, x='speed', y='IOU=0.5', color='g', marker='o', label='(1,192)')\n",
    "df.loc[(df['width']==1) & (df['res']==160)].plot(ax=ax, x='speed', y='IOU=0.5', color='r', marker='o', label='(1,160)')\n",
    "df.loc[(df['width']==1) & (df['res']==128)].plot(ax=ax, x='speed', y='IOU=0.5', color='m', marker='o', label='(1,128)')\n",
    "df.loc[(df['width']==1.4) & (df['res']==224)].plot(ax=ax, x='speed', y='IOU=0.5', color='c', marker='o', label='(1.4,224)')\n",
    "df.loc[(df['width']==0.75) & (df['res']==224)].plot(ax=ax, x='speed', y='IOU=0.5', color='y', marker='o', label='(0.75,224)')\n",
    "df.loc[(df['width']==0.5) & (df['res']==224)].plot(ax=ax, x='speed', y='IOU=0.5', color='k', marker='o', label='(0.5,224)')\n",
    "df.loc[(df['width']==0.35) & (df['res']==224)].plot(ax=ax, x='speed', y='IOU=0.5', color='#eeefff', marker='o', label='(0.5,224)')\n",
    "ax.legend(loc='upper center', bbox_to_anchor=(1.2, 0.8), shadow=True, ncol=1)"
   ]
  },
  {
   "cell_type": "code",
   "execution_count": null,
   "metadata": {},
   "outputs": [],
   "source": []
  }
 ],
 "metadata": {
  "kernelspec": {
   "display_name": "Python 3",
   "language": "python",
   "name": "python3"
  },
  "language_info": {
   "codemirror_mode": {
    "name": "ipython",
    "version": 3
   },
   "file_extension": ".py",
   "mimetype": "text/x-python",
   "name": "python",
   "nbconvert_exporter": "python",
   "pygments_lexer": "ipython3",
   "version": "3.7.0"
  }
 },
 "nbformat": 4,
 "nbformat_minor": 2
}
