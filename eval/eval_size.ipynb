{
 "cells": [
  {
   "cell_type": "code",
   "execution_count": 3,
   "metadata": {},
   "outputs": [
    {
     "ename": "ModuleNotFoundError",
     "evalue": "No module named 'cv2'",
     "output_type": "error",
     "traceback": [
      "\u001b[0;31m---------------------------------------------------------------------------\u001b[0m",
      "\u001b[0;31mModuleNotFoundError\u001b[0m                       Traceback (most recent call last)",
      "\u001b[0;32m<ipython-input-3-4bc580e9f771>\u001b[0m in \u001b[0;36m<module>\u001b[0;34m\u001b[0m\n\u001b[1;32m      2\u001b[0m \u001b[0;32mimport\u001b[0m \u001b[0mdatetime\u001b[0m\u001b[0;34m\u001b[0m\u001b[0;34m\u001b[0m\u001b[0m\n\u001b[1;32m      3\u001b[0m \u001b[0;32mimport\u001b[0m \u001b[0mtime\u001b[0m\u001b[0;34m\u001b[0m\u001b[0;34m\u001b[0m\u001b[0m\n\u001b[0;32m----> 4\u001b[0;31m \u001b[0;32mimport\u001b[0m \u001b[0mcv2\u001b[0m\u001b[0;34m\u001b[0m\u001b[0;34m\u001b[0m\u001b[0m\n\u001b[0m\u001b[1;32m      5\u001b[0m \u001b[0;32mimport\u001b[0m \u001b[0mnumpy\u001b[0m \u001b[0;32mas\u001b[0m \u001b[0mnp\u001b[0m\u001b[0;34m\u001b[0m\u001b[0;34m\u001b[0m\u001b[0m\n\u001b[1;32m      6\u001b[0m \u001b[0;32mimport\u001b[0m \u001b[0mtensorflow\u001b[0m \u001b[0;32mas\u001b[0m \u001b[0mtf\u001b[0m\u001b[0;34m\u001b[0m\u001b[0;34m\u001b[0m\u001b[0m\n",
      "\u001b[0;31mModuleNotFoundError\u001b[0m: No module named 'cv2'"
     ]
    }
   ],
   "source": [
    "import os\n",
    "import datetime\n",
    "import time\n",
    "import cv2\n",
    "import numpy as np\n",
    "import tensorflow as tf"
   ]
  },
  {
   "cell_type": "code",
   "execution_count": 6,
   "metadata": {},
   "outputs": [],
   "source": [
    "# Path to frozen detection graph\n",
    "EXPORT_NAME = 'ssd_mobilenetv2_1_224_800000'\n",
    "MODEL_NAME = 'ssd_mobilenetv2_1_224'\n",
    "CWD_PATH = os.getcwd()\n",
    "PATH_TO_CKPT = os.path.join(CWD_PATH, '..', 'training/models', MODEL_NAME, 'export', EXPORT_NAME, 'frozen_inference_graph.pb')"
   ]
  },
  {
   "cell_type": "code",
   "execution_count": 7,
   "metadata": {},
   "outputs": [
    {
     "name": "stdout",
     "output_type": "stream",
     "text": [
      "Total FLOPs: 8457\n"
     ]
    }
   ],
   "source": [
    "g = tf.Graph()\n",
    "run_meta = tf.RunMetadata()\n",
    "with g.as_default():\n",
    "    od_graph_def = tf.GraphDef()\n",
    "    with tf.gfile.GFile(PATH_TO_CKPT, 'rb') as fid:\n",
    "        serialized_graph = fid.read()\n",
    "        od_graph_def.ParseFromString(serialized_graph)\n",
    "        tf.import_graph_def(od_graph_def, name='')\n",
    "    \n",
    "    opts = tf.profiler.ProfileOptionBuilder.float_operation() \n",
    "    flops = tf.profiler.profile(g, run_meta=run_meta, cmd='op', options=opts)\n",
    "    #flops = tf.profiler.profile(g, options=tf.profiler.ProfileOptionBuilder.float_operation())\n",
    "    #print('FLOP = ', flops.total_float_ops)\n",
    "    if flops is not None:\n",
    "        print('Total FLOPs:',flops.total_float_ops)"
   ]
  },
  {
   "cell_type": "code",
   "execution_count": 40,
   "metadata": {},
   "outputs": [
    {
     "name": "stdout",
     "output_type": "stream",
     "text": [
      "\n",
      "Count the number of parameters in ckpt file(/Users/lindawang/OLIV/eval/../training/models/ssd_mobilenetv2_1_300/export/ssd_mobilenetv2_1_300_800000/model.ckpt)\n",
      "Total Param Count: 4707674\n"
     ]
    }
   ],
   "source": [
    "import numpy as np\n",
    "\n",
    "ckpt_fpath = os.path.join(CWD_PATH, '..', 'training/models', MODEL_NAME, 'export', EXPORT_NAME, 'model.ckpt')\n",
    "# Open TensorFlow ckpt\n",
    "reader = tf.train.NewCheckpointReader(ckpt_fpath)\n",
    "\n",
    "print('\\nCount the number of parameters in ckpt file(%s)' % ckpt_fpath)\n",
    "param_map = reader.get_variable_to_shape_map()\n",
    "total_count = 0\n",
    "for k, v in param_map.items():\n",
    "    if 'Momentum' not in k and 'global_step' not in k:\n",
    "        temp = np.prod(v)\n",
    "        total_count += temp\n",
    "        #print('%s: %s => %d' % (k, str(v), temp))\n",
    "\n",
    "print('Total Param Count: %d' % total_count)"
   ]
  },
  {
   "cell_type": "code",
   "execution_count": null,
   "metadata": {},
   "outputs": [],
   "source": []
  }
 ],
 "metadata": {
  "kernelspec": {
   "display_name": "Python 3",
   "language": "python",
   "name": "python3"
  },
  "language_info": {
   "codemirror_mode": {
    "name": "ipython",
    "version": 3
   },
   "file_extension": ".py",
   "mimetype": "text/x-python",
   "name": "python",
   "nbconvert_exporter": "python",
   "pygments_lexer": "ipython3",
   "version": "3.7.1"
  }
 },
 "nbformat": 4,
 "nbformat_minor": 2
}
