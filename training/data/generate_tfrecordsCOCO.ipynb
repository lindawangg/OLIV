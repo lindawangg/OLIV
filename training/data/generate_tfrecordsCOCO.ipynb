{
 "cells": [
  {
   "cell_type": "code",
   "execution_count": 3,
   "metadata": {},
   "outputs": [],
   "source": [
    "import os\n",
    "import io\n",
    "import pandas as pd\n",
    "from collections import namedtuple, OrderedDict"
   ]
  },
  {
   "cell_type": "code",
   "execution_count": 4,
   "metadata": {},
   "outputs": [],
   "source": [
    "import tensorflow as tf\n",
    "\n",
    "from PIL import Image\n",
    "from object_detection.utils import dataset_util"
   ]
  },
  {
   "cell_type": "code",
   "execution_count": 14,
   "metadata": {},
   "outputs": [
    {
     "name": "stdout",
     "output_type": "stream",
     "text": [
      "{'person': 1, 'bicycle': 2, 'car': 3, 'motorcycle': 4, 'airplane': 5, 'bus': 6, 'train': 7, 'truck': 8, 'boat': 9, 'traffic light': 10, 'fire hydrant': 11, 'stop sign': 12, 'parking meter': 13, 'bench': 14, 'bird': 15, 'cat': 16, 'dog': 17, 'horse': 18, 'sheep': 19, 'cow': 20, 'elephant': 21, 'bear': 22, 'zebra': 23, 'giraffe': 24, 'backpack': 25, 'umbrella': 26, 'handbag': 27, 'tie': 28, 'suitcase': 29, 'frisbee': 30, 'skis': 31, 'snowboard': 32, 'sports ball': 33, 'kite': 34, 'baseball bat': 35, 'baseball glove': 36, 'skateboard': 37, 'surfboard': 38, 'tennis racket': 39, 'bottle': 40, 'wine glass': 41, 'cup': 42, 'fork': 43, 'knife': 44, 'spoon': 45, 'bowl': 46, 'banana': 47, 'apple': 48, 'sandwich': 49, 'orange': 50, 'broccoli': 51, 'carrot': 52, 'hot dog': 53, 'pizza': 54, 'donut': 55, 'cake': 56, 'chair': 57, 'couch': 58, 'potted plant': 59, 'bed': 60, 'dining table': 61, 'toilet': 62, 'tv': 63, 'laptop': 64, 'mouse': 65, 'remote': 66, 'keyboard': 67, 'cell phone': 68, 'microwave': 69, 'oven': 70, 'toaster': 71, 'sink': 72, 'refrigerator': 73, 'book': 74, 'clock': 75, 'vase': 76, 'scissors': 77, 'teddy bear': 78, 'hair drier': 79, 'toothbrush': 80}\n"
     ]
    }
   ],
   "source": [
    "import pickle \n",
    "\n",
    "fileObject = open('label_dict.p','rb') \n",
    "labels_dict = pickle.load(fileObject)\n",
    "\n",
    "# switch order id:object order\n",
    "class_labels = {}\n",
    "i = 1\n",
    "while i < len(labels_dict) + 1:\n",
    "    class_labels[labels_dict[i]] = i\n",
    "    i += 1\n",
    "print(class_labels)"
   ]
  },
  {
   "cell_type": "code",
   "execution_count": 15,
   "metadata": {},
   "outputs": [],
   "source": [
    "def create_tf_example(group, path):\n",
    "    with tf.gfile.GFile(os.path.join(path, '{}'.format(group.filename)), 'rb') as fid:\n",
    "        encoded_jpg = fid.read()\n",
    "    encoded_jpg_io = io.BytesIO(encoded_jpg)\n",
    "    image = Image.open(encoded_jpg_io)\n",
    "    width, height = image.size\n",
    "    \n",
    "    filename = group.filename.encode('utf8')\n",
    "    image_format = b'jpg'\n",
    "    xmins = []\n",
    "    xmaxs = []\n",
    "    ymins = []\n",
    "    ymaxs = []\n",
    "    classes_text = []\n",
    "    classes = []\n",
    "    \n",
    "    for index, row in group.object.iterrows():\n",
    "        xmins.append(row['xmin'] / width)\n",
    "        xmaxs.append(row['xmax'] / width)\n",
    "        ymins.append(row['ymin'] / height)\n",
    "        ymaxs.append(row['ymax'] / height)\n",
    "        classes_text.append(row['class'].encode('utf8'))\n",
    "        classes.append(class_labels[row['class']])\n",
    "    \n",
    "    tf_example = tf.train.Example(features=tf.train.Features(feature={\n",
    "        'image/height': dataset_util.int64_feature(height),\n",
    "        'image/width': dataset_util.int64_feature(width),\n",
    "        'image/filename': dataset_util.bytes_feature(filename),\n",
    "        'image/source_id': dataset_util.bytes_feature(filename),\n",
    "        'image/encoded': dataset_util.bytes_feature(encoded_jpg),\n",
    "        'image/format': dataset_util.bytes_feature(image_format),\n",
    "        'image/object/bbox/xmin': dataset_util.float_list_feature(xmins),\n",
    "        'image/object/bbox/xmax': dataset_util.float_list_feature(xmaxs),\n",
    "        'image/object/bbox/ymin': dataset_util.float_list_feature(ymins),\n",
    "        'image/object/bbox/ymax': dataset_util.float_list_feature(ymaxs),\n",
    "        'image/object/class/text': dataset_util.bytes_list_feature(classes_text),\n",
    "        'image/object/class/label': dataset_util.int64_list_feature(classes),\n",
    "    }))\n",
    "    return tf_example"
   ]
  },
  {
   "cell_type": "code",
   "execution_count": 16,
   "metadata": {},
   "outputs": [],
   "source": [
    "def split(df, group):\n",
    "    data = namedtuple('data', ['filename', 'object'])\n",
    "    gb = df.groupby(group)\n",
    "    return [data(filename, gb.get_group(x)) for filename, x in zip(gb.groups.keys(), gb.groups)]"
   ]
  },
  {
   "cell_type": "code",
   "execution_count": 9,
   "metadata": {},
   "outputs": [],
   "source": [
    "# load csv files\n",
    "csv_trainval = 'train_fullcoco.csv'\n",
    "csv_test = 'test_fullcoco.csv'\n",
    "examples_trainval = pd.read_csv(csv_trainval)\n",
    "grouped_trainval = split(examples_trainval, 'file_name')\n",
    "examples_test = pd.read_csv(csv_test)\n",
    "test_group = split(examples_test, 'file_name')"
   ]
  },
  {
   "cell_type": "code",
   "execution_count": 11,
   "metadata": {},
   "outputs": [
    {
     "name": "stdout",
     "output_type": "stream",
     "text": [
      "Total number of train val images: 117266\n",
      "Number of images in test group: 4952\n",
      "Number of images in train group: 105540\n",
      "Number of images in val group: 11726\n"
     ]
    }
   ],
   "source": [
    "# shuffle and split into train/val and test\n",
    "import random\n",
    "random.seed(42)\n",
    "\n",
    "random.shuffle(grouped_trainval)\n",
    "val_percent = 0.1\n",
    "val_group = grouped_trainval[:int(len(grouped_trainval)*val_percent)]\n",
    "train_group = grouped_trainval[int(len(grouped_trainval)*val_percent):]\n",
    "\n",
    "print('Total number of train val images: %s' % len(grouped_trainval))\n",
    "print('Number of images in test group: %s' % len(test_group))\n",
    "print('Number of images in train group: %s' % len(train_group))\n",
    "print('Number of images in val group: %s' % len(val_group))"
   ]
  },
  {
   "cell_type": "code",
   "execution_count": 17,
   "metadata": {},
   "outputs": [
    {
     "name": "stdout",
     "output_type": "stream",
     "text": [
      "Successfully created the TFRecords: test_coco.record\n",
      "Successfully created the TFRecords: val_coco.record\n",
      "Successfully created the TFRecords: train_coco.record\n"
     ]
    }
   ],
   "source": [
    "output_test_path = 'test_coco.record'\n",
    "output_val_path = 'val_coco.record'\n",
    "output_train_path = 'train_coco.record'\n",
    "path = os.path.join(os.getcwd(), 'images/cooc2017')\n",
    "\n",
    "writer_test = tf.python_io.TFRecordWriter(output_test_path)\n",
    "for group in test_group:\n",
    "    tf_example = create_tf_example(group, path)\n",
    "    writer_test.write(tf_example.SerializeToString())\n",
    "writer_test.close()\n",
    "print('Successfully created the TFRecords: %s' % output_test_path)\n",
    "\n",
    "writer_val = tf.python_io.TFRecordWriter(output_val_path)\n",
    "for group in val_group:\n",
    "    tf_example = create_tf_example(group, path)\n",
    "    writer_val.write(tf_example.SerializeToString())\n",
    "writer_val.close()\n",
    "print('Successfully created the TFRecords: %s' % output_val_path)\n",
    "\n",
    "writer_train = tf.python_io.TFRecordWriter(output_train_path)\n",
    "for group in train_group:\n",
    "    tf_example = create_tf_example(group, path)\n",
    "    writer_train.write(tf_example.SerializeToString())\n",
    "writer_train.close()\n",
    "print('Successfully created the TFRecords: %s' % output_train_path)"
   ]
  },
  {
   "cell_type": "code",
   "execution_count": null,
   "metadata": {},
   "outputs": [],
   "source": []
  }
 ],
 "metadata": {
  "kernelspec": {
   "display_name": "Python 3",
   "language": "python",
   "name": "python3"
  },
  "language_info": {
   "codemirror_mode": {
    "name": "ipython",
    "version": 3
   },
   "file_extension": ".py",
   "mimetype": "text/x-python",
   "name": "python",
   "nbconvert_exporter": "python",
   "pygments_lexer": "ipython3",
   "version": "3.6.6"
  }
 },
 "nbformat": 4,
 "nbformat_minor": 2
}
