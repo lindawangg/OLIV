{
 "cells": [
  {
   "cell_type": "code",
   "execution_count": 1,
   "metadata": {},
   "outputs": [],
   "source": [
    "import os\n",
    "import io\n",
    "import pandas as pd\n",
    "from collections import namedtuple, OrderedDict"
   ]
  },
  {
   "cell_type": "code",
   "execution_count": 2,
   "metadata": {},
   "outputs": [],
   "source": [
    "import tensorflow as tf\n",
    "\n",
    "from PIL import Image\n",
    "from object_detection.utils import dataset_util"
   ]
  },
  {
   "cell_type": "code",
   "execution_count": 3,
   "metadata": {},
   "outputs": [],
   "source": [
    "class_labels = {'bottle': 1, 'person': 2, 'backpack': 3, 'handbag': 4, \n",
    "                'umbrella': 5, 'bowl': 6, 'cup': 7, 'clock': 8, \n",
    "                'knife': 9, 'spoon': 10, 'fork': 11, 'chair': 12, \n",
    "                'potted plant': 13, 'dining table': 14, 'keyboard': 15, 'mouse': 16, \n",
    "                'laptop': 17, 'cell phone': 18, 'scissors': 19, 'book': 20, 'monitor': 21}\n",
    "\n",
    "def create_tf_example(group, path):\n",
    "    with tf.gfile.GFile(os.path.join(path, '{}'.format(group.filename)), 'rb') as fid:\n",
    "        encoded_jpg = fid.read()\n",
    "    encoded_jpg_io = io.BytesIO(encoded_jpg)\n",
    "    image = Image.open(encoded_jpg_io)\n",
    "    width, height = image.size\n",
    "    \n",
    "    filename = group.filename.encode('utf8')\n",
    "    image_format = b'jpg'\n",
    "    xmins = []\n",
    "    xmaxs = []\n",
    "    ymins = []\n",
    "    ymaxs = []\n",
    "    classes_text = []\n",
    "    classes = []\n",
    "    \n",
    "    for index, row in group.object.iterrows():\n",
    "        xmins.append(row['xmin'] / width)\n",
    "        xmaxs.append(row['xmax'] / width)\n",
    "        ymins.append(row['ymin'] / height)\n",
    "        ymaxs.append(row['ymax'] / height)\n",
    "        classes_text.append(row['class'].encode('utf8'))\n",
    "        classes.append(class_labels[row['class']])\n",
    "    \n",
    "    tf_example = tf.train.Example(features=tf.train.Features(feature={\n",
    "        'image/height': dataset_util.int64_feature(height),\n",
    "        'image/width': dataset_util.int64_feature(width),\n",
    "        'image/filename': dataset_util.bytes_feature(filename),\n",
    "        'image/source_id': dataset_util.bytes_feature(filename),\n",
    "        'image/encoded': dataset_util.bytes_feature(encoded_jpg),\n",
    "        'image/format': dataset_util.bytes_feature(image_format),\n",
    "        'image/object/bbox/xmin': dataset_util.float_list_feature(xmins),\n",
    "        'image/object/bbox/xmax': dataset_util.float_list_feature(xmaxs),\n",
    "        'image/object/bbox/ymin': dataset_util.float_list_feature(ymins),\n",
    "        'image/object/bbox/ymax': dataset_util.float_list_feature(ymaxs),\n",
    "        'image/object/class/text': dataset_util.bytes_list_feature(classes_text),\n",
    "        'image/object/class/label': dataset_util.int64_list_feature(classes),\n",
    "    }))\n",
    "    return tf_example"
   ]
  },
  {
   "cell_type": "code",
   "execution_count": 4,
   "metadata": {},
   "outputs": [],
   "source": [
    "def split(df, group):\n",
    "    data = namedtuple('data', ['filename', 'object'])\n",
    "    gb = df.groupby(group)\n",
    "    return [data(filename, gb.get_group(x)) for filename, x in zip(gb.groups.keys(), gb.groups)]"
   ]
  },
  {
   "cell_type": "code",
   "execution_count": 5,
   "metadata": {},
   "outputs": [],
   "source": [
    "# load csv files\n",
    "csv_input1 = 'train_coco.csv'\n",
    "csv_input2 = 'test_coco.csv'\n",
    "examples1 = pd.read_csv(csv_input1)\n",
    "grouped1 = split(examples1, 'file_name')\n",
    "examples2 = pd.read_csv(csv_input2)\n",
    "grouped2 = split(examples2, 'file_name')"
   ]
  },
  {
   "cell_type": "code",
   "execution_count": 6,
   "metadata": {},
   "outputs": [],
   "source": [
    "grouped = grouped1 + grouped2"
   ]
  },
  {
   "cell_type": "code",
   "execution_count": 7,
   "metadata": {},
   "outputs": [
    {
     "name": "stdout",
     "output_type": "stream",
     "text": [
      "Number of images in test group: 13334\n",
      "Number of images in train group: 66674\n",
      "Number of images in val group: 8889\n"
     ]
    }
   ],
   "source": [
    "# shuffle and split into train/val and test\n",
    "import random\n",
    "random.seed(42)\n",
    "\n",
    "random.shuffle(grouped)\n",
    "test_percent = 0.15\n",
    "test_group = grouped[:int(len(grouped)*test_percent)]\n",
    "trainval_group = grouped[int(len(grouped)*test_percent):]\n",
    "\n",
    "random.shuffle(trainval_group)\n",
    "val_percent = 0.1\n",
    "val_group = trainval_group[:int(len(grouped)*val_percent)]\n",
    "train_group = trainval_group[int(len(grouped)*val_percent):]\n",
    "\n",
    "print('Number of images in test group: %s' % len(test_group))\n",
    "print('Number of images in train group: %s' % len(train_group))\n",
    "print('Number of images in val group: %s' % len(val_group))"
   ]
  },
  {
   "cell_type": "code",
   "execution_count": 9,
   "metadata": {},
   "outputs": [
    {
     "name": "stdout",
     "output_type": "stream",
     "text": [
      "Successfully created the TFRecords: test.record\n",
      "Successfully created the TFRecords: val.record\n",
      "Successfully created the TFRecords: train.record\n"
     ]
    }
   ],
   "source": [
    "output_test_path = 'test.record'\n",
    "output_val_path = 'val.record'\n",
    "output_train_path = 'train.record'\n",
    "path = os.path.join(os.getcwd(), 'images/cooc2017')\n",
    "\n",
    "writer_test = tf.python_io.TFRecordWriter(output_test_path)\n",
    "for group in test_group:\n",
    "    tf_example = create_tf_example(group, path)\n",
    "    writer_test.write(tf_example.SerializeToString())\n",
    "writer_test.close()\n",
    "print('Successfully created the TFRecords: %s' % output_test_path)\n",
    "\n",
    "writer_val = tf.python_io.TFRecordWriter(output_val_path)\n",
    "for group in val_group:\n",
    "    tf_example = create_tf_example(group, path)\n",
    "    writer_val.write(tf_example.SerializeToString())\n",
    "writer_val.close()\n",
    "print('Successfully created the TFRecords: %s' % output_val_path)\n",
    "\n",
    "writer_train = tf.python_io.TFRecordWriter(output_train_path)\n",
    "for group in train_group:\n",
    "    tf_example = create_tf_example(group, path)\n",
    "    writer_train.write(tf_example.SerializeToString())\n",
    "writer_train.close()\n",
    "print('Successfully created the TFRecords: %s' % output_train_path)"
   ]
  },
  {
   "cell_type": "code",
   "execution_count": null,
   "metadata": {},
   "outputs": [],
   "source": []
  }
 ],
 "metadata": {
  "kernelspec": {
   "display_name": "Python 3",
   "language": "python",
   "name": "python3"
  },
  "language_info": {
   "codemirror_mode": {
    "name": "ipython",
    "version": 3
   },
   "file_extension": ".py",
   "mimetype": "text/x-python",
   "name": "python",
   "nbconvert_exporter": "python",
   "pygments_lexer": "ipython3",
   "version": "3.6.6"
  }
 },
 "nbformat": 4,
 "nbformat_minor": 2
}
