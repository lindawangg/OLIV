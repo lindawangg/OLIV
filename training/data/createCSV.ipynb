{
 "cells": [
  {
   "cell_type": "code",
   "execution_count": 1,
   "metadata": {},
   "outputs": [],
   "source": [
    "%matplotlib inline\n",
    "from pycocotools.coco import COCO\n",
    "import numpy as np\n",
    "import skimage.io as io\n",
    "import matplotlib.pyplot as plt\n",
    "import pylab\n",
    "pylab.rcParams['figure.figsize'] = (8.0, 10.0)\n",
    "import csv"
   ]
  },
  {
   "cell_type": "code",
   "execution_count": 24,
   "metadata": {},
   "outputs": [],
   "source": [
    "dataDir='annotations'\n",
    "dataType='train'\n",
    "annFileImgNet='{}/ILSVRC2014/ILSVRC2014_{}.json'.format(dataDir,dataType)\n",
    "annFileCOCO='{}/COCO2017/instances_{}2017.json'.format(dataDir,dataType)"
   ]
  },
  {
   "cell_type": "code",
   "execution_count": 25,
   "metadata": {},
   "outputs": [
    {
     "name": "stdout",
     "output_type": "stream",
     "text": [
      "loading annotations into memory...\n",
      "Done (t=11.11s)\n",
      "creating index...\n",
      "index created!\n"
     ]
    }
   ],
   "source": [
    "coco = COCO(annFileCOCO)\n",
    "#imgNet = COCO(annFileImgNet)"
   ]
  },
  {
   "cell_type": "code",
   "execution_count": 26,
   "metadata": {},
   "outputs": [],
   "source": [
    "# display COCO categories \n",
    "catsCOCO = coco.loadCats(coco.getCatIds())\n",
    "nmsCOCO=[cat['name'] for cat in catsCOCO]\n",
    "#print('COCO categories: \\n{}\\n'.format(' '.join(nmsCOCO)))\n",
    "\n",
    "#catsImgNet = imgNet.loadCats(imgNet.getCatIds())\n",
    "#nmsImgNet=[cat['name'] for cat in catsImgNet]\n",
    "#print(nmsImgNet)\n",
    "#print('ILSVRC categories: \\n{}\\n'.format(' '.join(nmsImgNet)))"
   ]
  },
  {
   "cell_type": "code",
   "execution_count": 27,
   "metadata": {},
   "outputs": [],
   "source": [
    "# wanted classes\n",
    "allowed_classes = ['bottle', 'person', 'backpack', 'handbag', 'umbrella', 'bowl', 'cup', 'clock', 'knife', 'spoon', 'fork',\n",
    "                   'chair', 'potted plant', 'dining table', 'keyboard', 'mouse', 'laptop', 'cell phone', 'scissors', 'book',\n",
    "                  'monitor', 'coffee maker', 'filing cabinet', 'pencil box', 'pencil sharpener', 'lamp']\n",
    "\n",
    "# mappings from old label to new label for consistency between datasets\n",
    "mappings = {'monitor':'tv', 'mouse':'computer mouse','keyboard':'computer keyboard','cup':'cup or mug','cell phone':'iPod',\n",
    "            'clock':'digital clock','potted plant':'flower pot','handbag':'purse','bottle':'water bottle'}\n",
    "\n"
   ]
  },
  {
   "cell_type": "code",
   "execution_count": 28,
   "metadata": {},
   "outputs": [
    {
     "name": "stdout",
     "output_type": "stream",
     "text": [
      "491447\n",
      "21\n",
      "{'bottle': 24342, 'person': 262465, 'backpack': 8720, 'handbag': 12354, 'umbrella': 11431, 'bowl': 14358, 'cup': 20650, 'clock': 6334, 'knife': 7770, 'spoon': 6165, 'fork': 5479, 'chair': 38491, 'potted plant': 8652, 'dining table': 15714, 'keyboard': 2855, 'mouse': 2262, 'laptop': 4970, 'cell phone': 6434, 'scissors': 1481, 'book': 24715, 'monitor': 5805}\n",
      "21\n",
      "173543\n"
     ]
    }
   ],
   "source": [
    "catIdsImgNet = []\n",
    "catIdsCOCO = []\n",
    "class_counts = {}\n",
    "annotations = []\n",
    "total_images = 0\n",
    "#class_anns = {}\n",
    "\n",
    "def add_cat_to_annotations(catIds, class_name, dataset):\n",
    "    count = 0 # count of annotations in category\n",
    "    img_count = 0 # count of images\n",
    "    imgIds = dataset.getImgIds(catIds=catIds[-1])\n",
    "    for imgId in imgIds:\n",
    "        img_count += 1\n",
    "        img = dataset.loadImgs(imgId)\n",
    "        annIds = dataset.getAnnIds(imgIds=img[0]['id'], catIds=catIds[-1], iscrowd=None)\n",
    "        anns = dataset.loadAnns(annIds)\n",
    "        count += len(anns)\n",
    "        for a in anns:\n",
    "            # image filename, width, height, class, xmin, xmax, ymin, ymax\n",
    "            info = {'file_name':img[0]['file_name'], 'width':img[0]['width'], 'height':img[0]['height'], 'class':c, 'xmin':a['bbox'][0], 'xmax':a['bbox'][0]+a['bbox'][2], 'ymin':a['bbox'][1], 'ymax':a['bbox'][1]+a['bbox'][3]}\n",
    "            annotations.append(info)\n",
    "            #if class_name not in class_anns:\n",
    "            #    class_anns[class_name] = [info]\n",
    "            #else:\n",
    "            #    class_anns[class_name].append(info)\n",
    "    return count, img_count\n",
    "\n",
    "# ILSVRC dataset\n",
    "# for each annId in each imgId in each object class, add to csv\n",
    "'''for c in allowed_classes:\n",
    "    if c in nmsImgNet:\n",
    "        catIds = imgNet.getCatIds(catNms=c)\n",
    "        count, img_count = add_cat_to_annotations(catIds, c, imgNet)\n",
    "        total_images += img_count\n",
    "        catIdsImgNet.append(catIds)\n",
    "        class_counts[c] = count\n",
    "    elif c in mappings and mappings[c] in nmsImgNet:\n",
    "        catIds = imgNet.getCatIds(catNms=mappings[c])\n",
    "        count, img_count = add_cat_to_annotations(catIds, c, imgNet)\n",
    "        total_images += img_count\n",
    "        catIdsImgNet.append(catIds)\n",
    "        class_counts[c] = count\n",
    "print(len(annotations))\n",
    "print(class_counts)\n",
    "print(len(catIdsImgNet))\n",
    "print(total_images)'''\n",
    "\n",
    "for c in allowed_classes:\n",
    "    if c in nmsCOCO:\n",
    "        catIds = coco.getCatIds(catNms=c)\n",
    "        count, img_count = add_cat_to_annotations(catIds, c, coco)\n",
    "        total_images += img_count\n",
    "        catIdsCOCO.append(catIds)\n",
    "        if c in class_counts:\n",
    "            class_counts[c] += count\n",
    "        else:\n",
    "            class_counts[c] = count\n",
    "    elif c in mappings and mappings[c] in nmsCOCO:\n",
    "        catIds = coco.getCatIds(catNms=mappings[c])\n",
    "        count, img_count = add_cat_to_annotations(catIds, c, coco)\n",
    "        total_images += img_count\n",
    "        catIdsCOCO.append(catIds)\n",
    "        if c in class_counts:\n",
    "            class_counts[c] += count\n",
    "        else:\n",
    "            class_counts[c] = count\n",
    "print(len(annotations))\n",
    "print(len(class_counts))\n",
    "print(class_counts)\n",
    "print(len(catIdsCOCO))\n",
    "print(total_images)"
   ]
  },
  {
   "cell_type": "code",
   "execution_count": 29,
   "metadata": {},
   "outputs": [],
   "source": [
    "# write to csv\n",
    "with open('train_coco.csv', mode='w') as csv_file:\n",
    "    fieldnames = ['file_name', 'width', 'height', 'class', 'xmin', 'xmax', 'ymin', 'ymax']\n",
    "    writer = csv.DictWriter(csv_file, fieldnames=fieldnames)\n",
    "\n",
    "    writer.writeheader()\n",
    "    for ann in annotations:\n",
    "        writer.writerow(ann)"
   ]
  },
  {
   "cell_type": "code",
   "execution_count": null,
   "metadata": {},
   "outputs": [],
   "source": []
  }
 ],
 "metadata": {
  "kernelspec": {
   "display_name": "Python 3",
   "language": "python",
   "name": "python3"
  },
  "language_info": {
   "codemirror_mode": {
    "name": "ipython",
    "version": 3
   },
   "file_extension": ".py",
   "mimetype": "text/x-python",
   "name": "python",
   "nbconvert_exporter": "python",
   "pygments_lexer": "ipython3",
   "version": "3.6.6"
  }
 },
 "nbformat": 4,
 "nbformat_minor": 2
}
