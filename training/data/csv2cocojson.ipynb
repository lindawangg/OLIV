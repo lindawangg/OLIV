{
 "cells": [
  {
   "cell_type": "code",
   "execution_count": 1,
   "metadata": {},
   "outputs": [],
   "source": [
    "import csv"
   ]
  },
  {
   "cell_type": "code",
   "execution_count": 2,
   "metadata": {},
   "outputs": [],
   "source": [
    "'''class_labels = {'bottle': 44, 'person': 1, 'backpack': 27, 'handbag': 31, \n",
    "                'umbrella': 28, 'bowl': 51, 'cup': 47, 'clock': 85, \n",
    "                'knife': 49, 'spoon': 50, 'fork': 48, 'chair': 62, \n",
    "                'potted plant': 64, 'dining table': 67, 'keyboard': 76, 'mouse': 74, \n",
    "                'laptop': 73, 'cell phone': 77, 'scissors': 87, 'book': 84, 'monitor': 72}'''\n",
    "class_labels = {'bottle': 1, 'person': 2, 'backpack': 3, 'handbag': 4, \n",
    "                'umbrella': 5, 'bowl': 6, 'cup': 7, 'clock': 8, \n",
    "                'knife': 9, 'spoon': 10, 'fork': 11, 'chair': 12, \n",
    "                'potted plant': 13, 'dining table': 14, 'keyboard': 15, 'mouse': 16, \n",
    "                'laptop': 17, 'cell phone': 18, 'scissors': 19, 'book': 20, 'monitor': 21}"
   ]
  },
  {
   "cell_type": "code",
   "execution_count": 3,
   "metadata": {},
   "outputs": [
    {
     "name": "stdout",
     "output_type": "stream",
     "text": [
      "['filename', 'width', 'height', 'class', 'xmin', 'xmax', 'ymin', 'ymax']\n"
     ]
    }
   ],
   "source": [
    "filename = 'test.csv'\n",
    "\n",
    "with open(filename, 'r') as f:\n",
    "    mycsv = csv.reader(f)\n",
    "    mycsv = list(mycsv)\n",
    "    # 0:'filename', 1:'width', 2:'height', 3:'class', 4:'xmin', 5:'xmax', 6:'ymin', 7:'ymax'\n",
    "print(mycsv[0])"
   ]
  },
  {
   "cell_type": "code",
   "execution_count": 4,
   "metadata": {},
   "outputs": [],
   "source": [
    "import os\n",
    "from PIL import Image\n",
    "import numpy as np"
   ]
  },
  {
   "cell_type": "code",
   "execution_count": 5,
   "metadata": {},
   "outputs": [
    {
     "name": "stdout",
     "output_type": "stream",
     "text": [
      "921600\n",
      "307200\n"
     ]
    }
   ],
   "source": [
    "PATH_TO_TEST_IMAGES_DIR = '/home/linda/OLIV/training/data/images/cooc2017'\n",
    "test_image_path = os.path.join(PATH_TO_TEST_IMAGES_DIR, mycsv[166][0])\n",
    "image = Image.open(test_image_path)\n",
    "print(np.array(image.getdata()).size)\n",
    "print(image.size[0]*image.size[1])"
   ]
  },
  {
   "cell_type": "code",
   "execution_count": null,
   "metadata": {},
   "outputs": [
    {
     "data": {
      "text/plain": [
       "344"
      ]
     },
     "metadata": {},
     "output_type": "display_data"
    }
   ],
   "source": [
    "images = {} \n",
    "PATH_TO_TEST_IMAGES_DIR = '/home/linda/OLIV/training/data/images/cooc2017'\n",
    "\n",
    "\n",
    "file = open(\"subsetCOCO_test_1_224.json\", \"w\")\n",
    "file.write(\"{\")\n",
    "\n",
    "# write images\n",
    "# \"file_name\": \"000000394940.jpg\", \"height\": 640, \"width\": 426, \"id\":  289343\n",
    "from IPython.display import display, clear_output\n",
    "file.write(\"\\\"images\\\":[\")\n",
    "i = 0\n",
    "invalid = 0\n",
    "for row in mycsv:\n",
    "    clear_output(wait=True)\n",
    "    display(i)\n",
    "    if i == 0: # skip\n",
    "        i += 1\n",
    "        continue\n",
    "    test_image_path = os.path.join(PATH_TO_TEST_IMAGES_DIR, row[0])\n",
    "    image = Image.open(test_image_path)\n",
    "    if np.array(image.getdata()).size == image.size[0]*image.size[1]:\n",
    "        invalid += 1\n",
    "        continue\n",
    "    if row[0] not in images:\n",
    "        images[row[0]] = i\n",
    "        img_id = i\n",
    "        if i == 1:\n",
    "            file.write(\"{\\\"filename\\\": \\\"\" + row[0] + \"\\\", \\\"height\\\": \" + row[2] + \", \\\"width\\\": \" + row[1] + \n",
    "                       \", \\\"id\\\": \" + str(img_id) + \"}\")\n",
    "        else:\n",
    "            file.write(\",{\\\"filename\\\": \\\"\" + row[0] + \"\\\", \\\"height\\\": \" + row[2] + \", \\\"width\\\": \" + row[1] + \n",
    "                       \", \\\"id\\\": \" + str(img_id) + \"}\")\n",
    "        i += 1\n",
    "file.write(\"]\")\n",
    "\n",
    "# write annotations\n",
    "# \"image_id\": 289343, \"bbox\": [xmin, ymin, width, height], \"category_id\": 18, \"id\": 1, \"iscrowd\": 0, \"area\": 1108.0955\n",
    "file.write(\",\\\"annotations\\\":[\")\n",
    "i = 0\n",
    "for row in mycsv:\n",
    "    if i == 0: # skip\n",
    "        i += 1\n",
    "        continue\n",
    "    if row[0] in images:\n",
    "        if i == 1:\n",
    "            file.write(\"{\\\"image_id\\\": \" + str(images[row[0]])\n",
    "                       + \", \\\"bbox\\\": [\" + row[4] + \", \" + row[6] + \", \" + str(float(row[5])-float(row[4])) + \", \" + str(float(row[7])-float(row[6]))\n",
    "                       + \"], \\\"category_id\\\": \" + str(class_labels[row[3]]) \n",
    "                       + \", \\\"id\\\": \" + str(i) + \", \\\"iscrowd\\\": 0\"\n",
    "                       + \", \\\"area\\\": \" + str((float(row[5])-float(row[4]))*(float(row[7])-float(row[6]))) + \"}\")\n",
    "        else:\n",
    "            file.write(\",{\\\"image_id\\\": \" + str(images[row[0]])\n",
    "                       + \", \\\"bbox\\\": [\" + row[4] + \", \" + row[6] + \", \" + str(float(row[5])-float(row[4])) + \", \" + str(float(row[7])-float(row[6]))\n",
    "                       + \"], \\\"category_id\\\": \" + str(class_labels[row[3]]) \n",
    "                       + \", \\\"id\\\": \" + str(i) + \", \\\"iscrowd\\\": 0\"\n",
    "                       + \", \\\"area\\\": \" + str((float(row[5])-float(row[4]))*(float(row[7])-float(row[6]))) + \"}\")\n",
    "    i += 1\n",
    "file.write(\"]\")\n",
    "\n",
    "# write categories\n",
    "# \"id\": 18, \"name\": \"dog\"\n",
    "file.write(\", \\\"categories\\\": [\")\n",
    "i = 0\n",
    "for key, value in class_labels.items():\n",
    "    if i == 0:\n",
    "        file.write(\"{\\\"id\\\": \" + str(value) + \", \\\"name\\\": \\\"\" + key + \"\\\"}\")\n",
    "    else:\n",
    "        file.write(\",{\\\"id\\\": \" + str(value) + \", \\\"name\\\": \\\"\" + key + \"\\\"}\")\n",
    "    i += 1\n",
    "file.write(\"]\")\n",
    "\n",
    "file.write(\"}\")\n",
    "file.close()\n",
    "\n",
    "print(\"invalid: %s\" % invalid)"
   ]
  },
  {
   "cell_type": "code",
   "execution_count": 25,
   "metadata": {},
   "outputs": [],
   "source": [
    "import pickle\n",
    "\n",
    "fileObject = open('filenames_id.p','wb')\n",
    "pickle.dump(images, fileObject)\n",
    "fileObject.close()"
   ]
  },
  {
   "cell_type": "code",
   "execution_count": null,
   "metadata": {},
   "outputs": [],
   "source": []
  }
 ],
 "metadata": {
  "kernelspec": {
   "display_name": "Python 3",
   "language": "python",
   "name": "python3"
  },
  "language_info": {
   "codemirror_mode": {
    "name": "ipython",
    "version": 3
   },
   "file_extension": ".py",
   "mimetype": "text/x-python",
   "name": "python",
   "nbconvert_exporter": "python",
   "pygments_lexer": "ipython3",
   "version": "3.6.6"
  }
 },
 "nbformat": 4,
 "nbformat_minor": 2
}
