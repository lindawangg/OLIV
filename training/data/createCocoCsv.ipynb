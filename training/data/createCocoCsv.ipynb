{
 "cells": [
  {
   "cell_type": "code",
   "execution_count": 1,
   "metadata": {},
   "outputs": [],
   "source": [
    "%matplotlib inline\n",
    "from pycocotools.coco import COCO\n",
    "import numpy as np\n",
    "import skimage.io as io\n",
    "import matplotlib.pyplot as plt\n",
    "import pylab\n",
    "pylab.rcParams['figure.figsize'] = (8.0, 10.0)\n",
    "import csv"
   ]
  },
  {
   "cell_type": "code",
   "execution_count": 2,
   "metadata": {},
   "outputs": [
    {
     "name": "stdout",
     "output_type": "stream",
     "text": [
      "loading annotations into memory...\n",
      "Done (t=0.79s)\n",
      "creating index...\n",
      "index created!\n"
     ]
    }
   ],
   "source": [
    "dataDir='annotations'\n",
    "dataType='val'\n",
    "annFile='{}/COCO2017/instances_{}2017.json'.format(dataDir,dataType)\n",
    "coco = COCO(annFile)"
   ]
  },
  {
   "cell_type": "code",
   "execution_count": 3,
   "metadata": {},
   "outputs": [
    {
     "name": "stdout",
     "output_type": "stream",
     "text": [
      "COCO categories: \n",
      "person bicycle car motorcycle airplane bus train truck boat traffic light fire hydrant stop sign parking meter bench bird cat dog horse sheep cow elephant bear zebra giraffe backpack umbrella handbag tie suitcase frisbee skis snowboard sports ball kite baseball bat baseball glove skateboard surfboard tennis racket bottle wine glass cup fork knife spoon bowl banana apple sandwich orange broccoli carrot hot dog pizza donut cake chair couch potted plant bed dining table toilet tv laptop mouse remote keyboard cell phone microwave oven toaster sink refrigerator book clock vase scissors teddy bear hair drier toothbrush\n",
      "\n"
     ]
    }
   ],
   "source": [
    "cats = coco.loadCats(coco.getCatIds())\n",
    "nms=[cat['name'] for cat in cats]\n",
    "print('COCO categories: \\n{}\\n'.format(' '.join(nms)))"
   ]
  },
  {
   "cell_type": "code",
   "execution_count": 4,
   "metadata": {},
   "outputs": [
    {
     "name": "stdout",
     "output_type": "stream",
     "text": [
      "Number of annotations: 36781\n",
      "Number of classes: 80\n",
      "Class counts: {'person': 11004, 'bicycle': 316, 'car': 1932, 'motorcycle': 371, 'airplane': 143, 'bus': 285, 'train': 190, 'truck': 415, 'boat': 430, 'traffic light': 637, 'fire hydrant': 101, 'stop sign': 75, 'parking meter': 60, 'bench': 413, 'bird': 440, 'cat': 202, 'dog': 218, 'horse': 273, 'sheep': 361, 'cow': 380, 'elephant': 255, 'bear': 71, 'zebra': 268, 'giraffe': 232, 'backpack': 371, 'umbrella': 413, 'handbag': 540, 'tie': 254, 'suitcase': 303, 'frisbee': 115, 'skis': 241, 'snowboard': 69, 'sports ball': 263, 'kite': 336, 'baseball bat': 146, 'baseball glove': 148, 'skateboard': 179, 'surfboard': 269, 'tennis racket': 225, 'bottle': 1025, 'wine glass': 343, 'cup': 899, 'fork': 215, 'knife': 326, 'spoon': 253, 'bowl': 626, 'banana': 379, 'apple': 239, 'sandwich': 177, 'orange': 287, 'broccoli': 316, 'carrot': 371, 'hot dog': 127, 'pizza': 285, 'donut': 338, 'cake': 316, 'chair': 1791, 'couch': 261, 'potted plant': 343, 'bed': 163, 'dining table': 697, 'toilet': 179, 'tv': 288, 'laptop': 231, 'mouse': 106, 'remote': 283, 'keyboard': 153, 'cell phone': 262, 'microwave': 55, 'oven': 143, 'toaster': 9, 'sink': 225, 'refrigerator': 126, 'book': 1161, 'clock': 267, 'vase': 277, 'scissors': 36, 'teddy bear': 191, 'hair drier': 11, 'toothbrush': 57}\n",
      "Number of classes: 80\n",
      "Total number of images: 14631\n"
     ]
    }
   ],
   "source": [
    "catIdsCOCO = []\n",
    "class_counts = {}\n",
    "annotations = []\n",
    "total_images = 0\n",
    "\n",
    "def add_cat_to_annotations(catIds, class_name):\n",
    "    count = 0 # count of annotations in category\n",
    "    img_count = 0 # count of images\n",
    "    imgIds = coco.getImgIds(catIds=catIds[-1])\n",
    "    for imgId in imgIds:\n",
    "        img_count += 1\n",
    "        img = coco.loadImgs(imgId)\n",
    "        annIds = coco.getAnnIds(imgIds=img[0]['id'], catIds=catIds[-1], iscrowd=None)\n",
    "        anns = coco.loadAnns(annIds)\n",
    "        count += len(anns)\n",
    "        for a in anns:\n",
    "            # image filename, width, height, class, xmin, xmax, ymin, ymax\n",
    "            info = {'file_name':img[0]['file_name'], 'width':img[0]['width'], 'height':img[0]['height'], 'class':c, 'xmin':a['bbox'][0], 'xmax':a['bbox'][0]+a['bbox'][2], 'ymin':a['bbox'][1], 'ymax':a['bbox'][1]+a['bbox'][3]}\n",
    "            annotations.append(info)\n",
    "            #if class_name not in class_anns:\n",
    "            #    class_anns[class_name] = [info]\n",
    "            #else:\n",
    "            #    class_anns[class_name].append(info)\n",
    "    return count, img_count\n",
    "\n",
    "for c in nms:\n",
    "    catIds = coco.getCatIds(catNms=c)\n",
    "    count, img_count = add_cat_to_annotations(catIds, c)\n",
    "    total_images += img_count\n",
    "    catIdsCOCO.append(catIds)\n",
    "    if c in class_counts:\n",
    "        class_counts[c] += count\n",
    "    else:\n",
    "        class_counts[c] = count\n",
    "\n",
    "print('Number of annotations: %s' % len(annotations))\n",
    "print('Number of classes: %s' % len(class_counts))\n",
    "print('Class counts: %s' % class_counts)\n",
    "print('Number of classes: %s' % len(catIdsCOCO))\n",
    "print('Total number of images: %s' % total_images)"
   ]
  },
  {
   "cell_type": "code",
   "execution_count": 5,
   "metadata": {},
   "outputs": [],
   "source": [
    "# write to csv\n",
    "with open('test_fullcoco.csv', mode='w') as csv_file:\n",
    "    fieldnames = ['file_name', 'width', 'height', 'class', 'xmin', 'xmax', 'ymin', 'ymax']\n",
    "    writer = csv.DictWriter(csv_file, fieldnames=fieldnames)\n",
    "\n",
    "    writer.writeheader()\n",
    "    for ann in annotations:\n",
    "        writer.writerow(ann)"
   ]
  },
  {
   "cell_type": "code",
   "execution_count": null,
   "metadata": {},
   "outputs": [],
   "source": []
  }
 ],
 "metadata": {
  "kernelspec": {
   "display_name": "Python 3",
   "language": "python",
   "name": "python3"
  },
  "language_info": {
   "codemirror_mode": {
    "name": "ipython",
    "version": 3
   },
   "file_extension": ".py",
   "mimetype": "text/x-python",
   "name": "python",
   "nbconvert_exporter": "python",
   "pygments_lexer": "ipython3",
   "version": "3.6.6"
  }
 },
 "nbformat": 4,
 "nbformat_minor": 2
}
